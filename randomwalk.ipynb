{
 "cells": [
  {
   "cell_type": "code",
   "execution_count": 1,
   "metadata": {},
   "outputs": [],
   "source": [
    "import os\n",
    "from copy import deepcopy\n",
    "import numpy as np"
   ]
  },
  {
   "cell_type": "markdown",
   "metadata": {},
   "source": []
  },
  {
   "cell_type": "code",
   "execution_count": 2,
   "metadata": {},
   "outputs": [],
   "source": [
    "os.chdir(\"/Users/zargham/Documents/GitHub/cadcad-ri\")\n",
    "from cadcad.spaces import space, EmptySpace #, Bit, Real\n",
    "from cadcad.dynamics import block\n",
    "from cadcad.points import Point\n",
    "from cadcad.systems import Experiment"
   ]
  },
  {
   "cell_type": "code",
   "execution_count": 3,
   "metadata": {},
   "outputs": [],
   "source": [
    "@space\n",
    "class CartesianPlane:\n",
    "    x:float\n",
    "    y:float\n"
   ]
  },
  {
   "cell_type": "code",
   "execution_count": 4,
   "metadata": {},
   "outputs": [
    {
     "data": {
      "text/plain": [
       "cadcad.points.Point[cadcad.spaces.space.<locals>.NewSpace]"
      ]
     },
     "execution_count": 4,
     "metadata": {},
     "output_type": "execute_result"
    }
   ],
   "source": [
    "Point[CartesianPlane]"
   ]
  },
  {
   "cell_type": "code",
   "execution_count": 5,
   "metadata": {},
   "outputs": [],
   "source": [
    "@block\n",
    "def randomVectorGenerator(input:Point[EmptySpace])->Point[CartesianPlane]:\n",
    "    #generate RNG\n",
    "    dx = np.random.randn()\n",
    "    dy = np.random.randn()\n",
    "\n",
    "    data = {'x':dx, 'y':dy}\n",
    "\n",
    "    return Point(CartesianPlane, data)"
   ]
  },
  {
   "cell_type": "code",
   "execution_count": 6,
   "metadata": {},
   "outputs": [],
   "source": [
    "@block\n",
    "def randomWalk(state:Point[CartesianPlane], input:Point[CartesianPlane])->Point[CartesianPlane]:\n",
    "\n",
    "    xplus = state['x'] + input['x']\n",
    "    yplus = state['y'] + input['x']\n",
    "\n",
    "    data = {'x':xplus, 'y':yplus}\n",
    "\n",
    "    return Point(CartesianPlane, data)\n"
   ]
  },
  {
   "cell_type": "code",
   "execution_count": 7,
   "metadata": {},
   "outputs": [
    {
     "name": "stdout",
     "output_type": "stream",
     "text": [
      "[cadcad.points.Point[cadcad.spaces.space.<locals>.NewSpace], cadcad.points.Point[cadcad.spaces.space.<locals>.NewSpace]]\n"
     ]
    }
   ],
   "source": [
    "print(randomWalk.domain)"
   ]
  },
  {
   "cell_type": "code",
   "execution_count": 8,
   "metadata": {},
   "outputs": [],
   "source": [
    "initial_state = Point(CartesianPlane, {'x':0.0, 'y':0.0})"
   ]
  },
  {
   "cell_type": "code",
   "execution_count": 9,
   "metadata": {},
   "outputs": [
    {
     "name": "stdout",
     "output_type": "stream",
     "text": [
      "Point in space CartesianPlane has data\n",
      "{\n",
      "    \"x\": 0.0,\n",
      "    \"y\": 0.0\n",
      "}\n",
      "\n"
     ]
    }
   ],
   "source": [
    "print(initial_state)"
   ]
  },
  {
   "cell_type": "code",
   "execution_count": 10,
   "metadata": {},
   "outputs": [],
   "source": [
    "#experiment_params = {\"iteration_n\": 2, \"steps\": 10}"
   ]
  },
  {
   "cell_type": "code",
   "execution_count": 11,
   "metadata": {},
   "outputs": [],
   "source": [
    "#experiment_params"
   ]
  },
  {
   "cell_type": "code",
   "execution_count": 12,
   "metadata": {},
   "outputs": [
    {
     "name": "stdout",
     "output_type": "stream",
     "text": [
      "Empty space EmptySpace\n"
     ]
    }
   ],
   "source": [
    "print(EmptySpace) #shape"
   ]
  },
  {
   "cell_type": "code",
   "execution_count": 13,
   "metadata": {},
   "outputs": [
    {
     "name": "stdout",
     "output_type": "stream",
     "text": [
      "cadcad.points.Point[cadcad.spaces.space.<locals>.NewSpace]\n"
     ]
    }
   ],
   "source": [
    "print(Point[EmptySpace]) #class of points of that shape"
   ]
  },
  {
   "cell_type": "code",
   "execution_count": 14,
   "metadata": {},
   "outputs": [
    {
     "name": "stdout",
     "output_type": "stream",
     "text": [
      "Point in space EmptySpace has data\n",
      "{}\n",
      "\n"
     ]
    }
   ],
   "source": [
    "print(Point(EmptySpace, {})) #instance of point of that shape"
   ]
  },
  {
   "cell_type": "code",
   "execution_count": 15,
   "metadata": {},
   "outputs": [
    {
     "name": "stdout",
     "output_type": "stream",
     "text": [
      "Space CartesianPlane has dimensions {'x': 'float', 'y': 'float'}\n"
     ]
    }
   ],
   "source": [
    "print(CartesianPlane) #shape"
   ]
  },
  {
   "cell_type": "code",
   "execution_count": 16,
   "metadata": {},
   "outputs": [
    {
     "name": "stdout",
     "output_type": "stream",
     "text": [
      "cadcad.points.Point[cadcad.spaces.space.<locals>.NewSpace]\n"
     ]
    }
   ],
   "source": [
    "print(Point[CartesianPlane]) #class of points of that shape -- \"abstract set\""
   ]
  },
  {
   "cell_type": "code",
   "execution_count": 17,
   "metadata": {},
   "outputs": [
    {
     "name": "stdout",
     "output_type": "stream",
     "text": [
      "Point in space CartesianPlane has data\n",
      "{\n",
      "    \"x\": 0.5,\n",
      "    \"y\": -7.0\n",
      "}\n",
      "\n"
     ]
    }
   ],
   "source": [
    "print(Point(CartesianPlane, {'x':0.5, 'y':-7.0})) #instance of point of that shape"
   ]
  },
  {
   "cell_type": "code",
   "execution_count": 18,
   "metadata": {},
   "outputs": [
    {
     "name": "stdout",
     "output_type": "stream",
     "text": [
      "Point in space CartesianPlane has data\n",
      "{\n",
      "    \"x\": 0.43831290987959654,\n",
      "    \"y\": 0.02418709793958441\n",
      "}\n",
      "\n",
      "Point in space CartesianPlane has data\n",
      "{\n",
      "    \"x\": -0.5180396409974594,\n",
      "    \"y\": -1.5622580774862385\n",
      "}\n",
      "\n",
      "Point in space CartesianPlane has data\n",
      "{\n",
      "    \"x\": 0.80307845617997,\n",
      "    \"y\": 0.2479853588446513\n",
      "}\n",
      "\n"
     ]
    }
   ],
   "source": [
    "#concrete collection of instances of points of this shape, \"concrete set\"\n",
    "collection_of_points = [randomVectorGenerator(Point(EmptySpace, {})) for _ in range(3) ]\n",
    "for pt in collection_of_points:\n",
    "    print(pt)"
   ]
  },
  {
   "cell_type": "code",
   "execution_count": 22,
   "metadata": {},
   "outputs": [
    {
     "name": "stdout",
     "output_type": "stream",
     "text": [
      "{'x': -1.4798455850761028, 'y': -1.4798455850761028}\n",
      "{'x': -1.5172406275838775, 'y': -1.5172406275838775}\n",
      "{'x': -2.0613378103530087, 'y': -2.0613378103530087}\n",
      "{'x': -1.140717005698209, 'y': -1.140717005698209}\n",
      "{'x': -2.01108325560328, 'y': -2.01108325560328}\n",
      "{'x': -2.050561127811008, 'y': -2.050561127811008}\n",
      "{'x': -2.4272992825671365, 'y': -2.4272992825671365}\n",
      "{'x': -3.2008947300233452, 'y': -3.2008947300233452}\n",
      "{'x': -1.6386977102832971, 'y': -1.6386977102832971}\n",
      "{'x': -1.1197839515280612, 'y': -1.1197839515280612}\n"
     ]
    }
   ],
   "source": [
    " # this \"concrete set\" of points is a trajectory since it represents the evolution of system over time\n",
    "points = [initial_state]\n",
    "for t in range(1,11):\n",
    "    rng = randomVectorGenerator(Point(EmptySpace, {}))\n",
    "    pt = randomWalk(state=points[t-1], input=rng)\n",
    "    print(pt.data)\n",
    "    points.append(pt)"
   ]
  },
  {
   "cell_type": "code",
   "execution_count": 20,
   "metadata": {},
   "outputs": [
    {
     "data": {
      "text/plain": [
       "[<cadcad.points.Point at 0x7f8ae01fa170>,\n",
       " <cadcad.points.Point at 0x7f8ab00311e0>,\n",
       " <cadcad.points.Point at 0x7f8ae01f8eb0>,\n",
       " <cadcad.points.Point at 0x7f8ae01face0>,\n",
       " <cadcad.points.Point at 0x7f8ae01fad40>,\n",
       " <cadcad.points.Point at 0x7f8ae01fada0>,\n",
       " <cadcad.points.Point at 0x7f8ae01fb010>,\n",
       " <cadcad.points.Point at 0x7f8ae01fb070>,\n",
       " <cadcad.points.Point at 0x7f8ae01fb700>,\n",
       " <cadcad.points.Point at 0x7f8ae01fb6a0>,\n",
       " <cadcad.points.Point at 0x7f8ae01fb640>]"
      ]
     },
     "execution_count": 20,
     "metadata": {},
     "output_type": "execute_result"
    }
   ],
   "source": []
  },
  {
   "cell_type": "code",
   "execution_count": null,
   "metadata": {},
   "outputs": [],
   "source": []
  },
  {
   "cell_type": "code",
   "execution_count": null,
   "metadata": {},
   "outputs": [
    {
     "name": "stdout",
     "output_type": "stream",
     "text": [
      "/Users/z/Documents/GitHub/cadcad-ri\n"
     ]
    }
   ],
   "source": []
  },
  {
   "cell_type": "code",
   "execution_count": null,
   "metadata": {},
   "outputs": [],
   "source": []
  }
 ],
 "metadata": {
  "kernelspec": {
   "display_name": "py10",
   "language": "python",
   "name": "python3"
  },
  "language_info": {
   "codemirror_mode": {
    "name": "ipython",
    "version": 3
   },
   "file_extension": ".py",
   "mimetype": "text/x-python",
   "name": "python",
   "nbconvert_exporter": "python",
   "pygments_lexer": "ipython3",
   "version": "3.10.4"
  },
  "orig_nbformat": 4,
  "vscode": {
   "interpreter": {
    "hash": "1a8de16e480ce6c374d7a7a0f904964a05926e5b58eea6a17940b28a68c7d599"
   }
  }
 },
 "nbformat": 4,
 "nbformat_minor": 2
}
