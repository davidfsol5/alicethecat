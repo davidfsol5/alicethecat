{
 "cells": [
  {
   "cell_type": "code",
   "execution_count": 2,
   "metadata": {},
   "outputs": [],
   "source": [
    "import os\n",
    "from copy import deepcopy\n",
    "import numpy as np"
   ]
  },
  {
   "cell_type": "markdown",
   "metadata": {},
   "source": []
  },
  {
   "cell_type": "code",
   "execution_count": 4,
   "metadata": {},
   "outputs": [],
   "source": [
    "os.chdir(\"/Users/zargham/Documents/GitHub/cadcad-ri\")\n",
    "from cadcad.spaces import space, EmptySpace #, Bit, Real\n",
    "from cadcad.dynamics import block\n",
    "from cadcad.points import Point\n",
    "from cadcad.systems import Experiment"
   ]
  },
  {
   "cell_type": "code",
   "execution_count": 6,
   "metadata": {},
   "outputs": [],
   "source": [
    "@space\n",
    "class CartesianPlane:\n",
    "    x:float\n",
    "    y:float\n"
   ]
  },
  {
   "cell_type": "code",
   "execution_count": null,
   "metadata": {},
   "outputs": [],
   "source": []
  },
  {
   "cell_type": "code",
   "execution_count": 8,
   "metadata": {},
   "outputs": [],
   "source": [
    "@block\n",
    "def randomWalk(state:Point[CartesianPlane])->Point[CartesianPlane]:\n",
    "\n",
    "    #generate RNG\n",
    "    dx = np.random.randn()\n",
    "    dy = np.random.randn()\n",
    "\n",
    "    xplus = state['x'] + dx\n",
    "    yplus = state['y'] + dy\n",
    "\n",
    "    data = {'x':xplus, 'y':yplus}\n",
    "\n",
    "    return Point(CartesianPlane, data)\n"
   ]
  },
  {
   "cell_type": "code",
   "execution_count": 11,
   "metadata": {},
   "outputs": [
    {
     "name": "stdout",
     "output_type": "stream",
     "text": [
      "cadcad.points.Point[cadcad.spaces.space.<locals>.NewSpace]\n"
     ]
    }
   ],
   "source": [
    "print(randomWalk.codomain)"
   ]
  },
  {
   "cell_type": "code",
   "execution_count": 12,
   "metadata": {},
   "outputs": [],
   "source": [
    "initial_state = Point(CartesianPlane, {'x':0.0, 'y':0.0})"
   ]
  },
  {
   "cell_type": "code",
   "execution_count": 13,
   "metadata": {},
   "outputs": [
    {
     "name": "stdout",
     "output_type": "stream",
     "text": [
      "Point in space CartesianPlane has data\n",
      "{\n",
      "    \"x\": 0.0,\n",
      "    \"y\": 0.0\n",
      "}\n",
      "\n"
     ]
    }
   ],
   "source": [
    "print(initial_state)"
   ]
  },
  {
   "cell_type": "code",
   "execution_count": 14,
   "metadata": {},
   "outputs": [],
   "source": [
    "experiment_params = {\"iteration_n\": 2, \"steps\": 10}"
   ]
  },
  {
   "cell_type": "code",
   "execution_count": 15,
   "metadata": {},
   "outputs": [
    {
     "data": {
      "text/plain": [
       "{'iteration_n': 2, 'steps': 10}"
      ]
     },
     "execution_count": 15,
     "metadata": {},
     "output_type": "execute_result"
    }
   ],
   "source": [
    "experiment_params"
   ]
  },
  {
   "cell_type": "code",
   "execution_count": 20,
   "metadata": {},
   "outputs": [
    {
     "name": "stdout",
     "output_type": "stream",
     "text": [
      "{'x': 1.5224776084664504, 'y': 1.0745186109838984}\n",
      "{'x': 2.628654768454239, 'y': 2.3316581686648616}\n",
      "{'x': 3.6948737901098, 'y': 1.4055759099336935}\n",
      "{'x': 3.0930955587095914, 'y': 1.2197788127670763}\n",
      "{'x': 0.8911818464746379, 'y': 3.2635263869719005}\n",
      "{'x': -0.5002973551722003, 'y': 4.196719302162104}\n",
      "{'x': -1.8805903167013687, 'y': 3.6607328247727122}\n",
      "{'x': -1.2785436557679581, 'y': 3.617269009602414}\n",
      "{'x': -0.3554472574021087, 'y': 5.092422556053251}\n",
      "{'x': -0.6826129268217983, 'y': 4.082240193958016}\n"
     ]
    }
   ],
   "source": [
    "points = [initial_state]\n",
    "for t in range(1,11):\n",
    "    pt = randomWalk(state=points[t-1])\n",
    "    print(pt.data)\n",
    "    points.append(pt)"
   ]
  },
  {
   "cell_type": "code",
   "execution_count": 18,
   "metadata": {},
   "outputs": [
    {
     "data": {
      "text/plain": [
       "[<cadcad.points.Point at 0x7fd0b8790760>,\n",
       " <cadcad.points.Point at 0x7fd0b87acf40>,\n",
       " <cadcad.points.Point at 0x7fd0b87aff40>,\n",
       " <cadcad.points.Point at 0x7fd0b87ada20>,\n",
       " <cadcad.points.Point at 0x7fd0b87af6d0>,\n",
       " <cadcad.points.Point at 0x7fd0b87aded0>,\n",
       " <cadcad.points.Point at 0x7fd0b87ad600>,\n",
       " <cadcad.points.Point at 0x7fd0b87acf70>,\n",
       " <cadcad.points.Point at 0x7fd0b87afdc0>,\n",
       " <cadcad.points.Point at 0x7fd0b87afe80>,\n",
       " <cadcad.points.Point at 0x7fd0b87af4f0>]"
      ]
     },
     "execution_count": 18,
     "metadata": {},
     "output_type": "execute_result"
    }
   ],
   "source": [
    "points"
   ]
  },
  {
   "cell_type": "code",
   "execution_count": null,
   "metadata": {},
   "outputs": [],
   "source": [
    "my_experiment = Experiment(initial_state, experiment_params, (randomWalk,))\n"
   ]
  },
  {
   "cell_type": "code",
   "execution_count": null,
   "metadata": {},
   "outputs": [],
   "source": [
    "\n",
    "results = my_experiment.run()\n",
    "\n"
   ]
  },
  {
   "cell_type": "code",
   "execution_count": 10,
   "metadata": {},
   "outputs": [
    {
     "name": "stdout",
     "output_type": "stream",
     "text": [
      "/Users/z/Documents/GitHub/cadcad-ri\n"
     ]
    }
   ],
   "source": []
  },
  {
   "cell_type": "code",
   "execution_count": null,
   "metadata": {},
   "outputs": [],
   "source": []
  }
 ],
 "metadata": {
  "kernelspec": {
   "display_name": "py10",
   "language": "python",
   "name": "python3"
  },
  "language_info": {
   "codemirror_mode": {
    "name": "ipython",
    "version": 3
   },
   "file_extension": ".py",
   "mimetype": "text/x-python",
   "name": "python",
   "nbconvert_exporter": "python",
   "pygments_lexer": "ipython3",
   "version": "3.10.4"
  },
  "orig_nbformat": 4,
  "vscode": {
   "interpreter": {
    "hash": "1a8de16e480ce6c374d7a7a0f904964a05926e5b58eea6a17940b28a68c7d599"
   }
  }
 },
 "nbformat": 4,
 "nbformat_minor": 2
}
